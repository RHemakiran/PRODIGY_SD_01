{
  "nbformat": 4,
  "nbformat_minor": 0,
  "metadata": {
    "colab": {
      "provenance": []
    },
    "kernelspec": {
      "name": "python3",
      "display_name": "Python 3"
    },
    "language_info": {
      "name": "python"
    }
  },
  "cells": [
    {
      "cell_type": "code",
      "execution_count": 2,
      "metadata": {
        "id": "YMQdtb8X-4w4",
        "colab": {
          "base_uri": "https://localhost:8080/"
        },
        "outputId": "bf99fd3b-573d-4f5b-b21f-960d93f5ecba"
      },
      "outputs": [
        {
          "output_type": "stream",
          "name": "stdout",
          "text": [
            "Enter the temperature value: 25\n",
            "Enter the unit of the temperature (C for Celsius, F for Fahrenheit, K for Kelvin): c\n",
            "25.0°C is equivalent to 77.00°F and 298.15K.\n"
          ]
        }
      ],
      "source": [
        "def celsius_to_fahrenheit(celsius):\n",
        "    return (celsius * 9/5) + 32\n",
        "\n",
        "def celsius_to_kelvin(celsius):\n",
        "    return celsius + 273.15\n",
        "\n",
        "def fahrenheit_to_celsius(fahrenheit):\n",
        "    return (fahrenheit - 32) * 5/9\n",
        "\n",
        "def fahrenheit_to_kelvin(fahrenheit):\n",
        "    return (fahrenheit - 32) * 5/9 + 273.15\n",
        "\n",
        "def kelvin_to_celsius(kelvin):\n",
        "    return kelvin - 273.15\n",
        "\n",
        "def kelvin_to_fahrenheit(kelvin):\n",
        "    return (kelvin - 273.15) * 9/5 + 32\n",
        "\n",
        "def convert_temperature(value, unit):\n",
        "    if unit == 'C':\n",
        "        fahrenheit = celsius_to_fahrenheit(value)\n",
        "        kelvin = celsius_to_kelvin(value)\n",
        "        return fahrenheit, kelvin\n",
        "    elif unit == 'F':\n",
        "        celsius = fahrenheit_to_celsius(value)\n",
        "        kelvin = fahrenheit_to_kelvin(value)\n",
        "        return celsius, kelvin\n",
        "    elif unit == 'K':\n",
        "        celsius = kelvin_to_celsius(value)\n",
        "        fahrenheit = kelvin_to_fahrenheit(value)\n",
        "        return celsius, fahrenheit\n",
        "    else:\n",
        "        raise ValueError(\"Invalid unit of measurement. Please use 'C', 'F', or 'K'.\")\n",
        "\n",
        "def main():\n",
        "    value = float(input(\"Enter the temperature value: \"))\n",
        "    unit = input(\"Enter the unit of the temperature (C for Celsius, F for Fahrenheit, K for Kelvin): \").upper()\n",
        "\n",
        "    try:\n",
        "        converted1, converted2 = convert_temperature(value, unit)\n",
        "        if unit == 'C':\n",
        "            print(f\"{value}°C is equivalent to {converted1:.2f}°F and {converted2:.2f}K.\")\n",
        "        elif unit == 'F':\n",
        "            print(f\"{value}°F is equivalent to {converted1:.2f}°C and {converted2:.2f}K.\")\n",
        "        elif unit == 'K':\n",
        "            print(f\"{value}K is equivalent to {converted1:.2f}°C and {converted2:.2f}°F.\")\n",
        "    except ValueError as e:\n",
        "        print(e)\n",
        "\n",
        "if __name__ == \"__main__\":\n",
        "    main()\n"
      ]
    }
  ]
}